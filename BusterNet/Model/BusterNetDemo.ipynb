{
 "cells": [
  {
   "cell_type": "code",
   "execution_count": 2,
   "metadata": {},
   "outputs": [
    {
     "name": "stderr",
     "output_type": "stream",
     "text": [
      "Using TensorFlow backend.\n"
     ]
    }
   ],
   "source": [
    "from __future__ import print_function\n",
    "%matplotlib inline\n",
    "%load_ext autoreload\n",
    "%autoreload 2\n",
    "\n",
    "import os                                    \n",
    "import sys\n",
    "import keras\n",
    "import tensorflow as tf\n",
    "import numpy as np \n",
    "from matplotlib import pyplot\n",
    "import warnings\n",
    "warnings.filterwarnings(\"ignore\")"
   ]
  },
  {
   "cell_type": "markdown",
   "metadata": {},
   "source": [
    "# BusterNet based Copy-Move Forgery Detection (CMFD)\n",
    "\n",
    "### For details of module architectures and reasons why we design the BusterNet in its current way, please refer to the source code and the paper expalinations."
   ]
  },
  {
   "cell_type": "code",
   "execution_count": 3,
   "metadata": {},
   "outputs": [
    {
     "name": "stdout",
     "output_type": "stream",
     "text": [
      "INFO: this notebook has been tested under keras.version=2.2.2, tensorflow.version=1.8.0\n",
      "INFO: here is the info your local\n",
      "      keras.version=2.2.4\n",
      "      tensorflow.version=1.15.0\n",
      "INFO: consider to the suggested versions if you can't run the following code properly.\n"
     ]
    }
   ],
   "source": [
    "print(\"INFO: this notebook has been tested under keras.version=2.2.2, tensorflow.version=1.8.0\")\n",
    "print(\"INFO: here is the info your local\")\n",
    "print(\"      keras.version={}\".format( keras.__version__ ) )\n",
    "print(\"      tensorflow.version={}\".format( tf.__version__ ) )\n",
    "print(\"INFO: consider to the suggested versions if you can't run the following code properly.\")"
   ]
  },
  {
   "cell_type": "markdown",
   "metadata": {},
   "source": [
    "# Task #1: Create the busterNet model with pretrained weights\n",
    "\n",
    "This pretrained BusterNet is wrapped in such a way that it could accept either of the following two cases:\n",
    "- a. a uint8 RGB image\n",
    "- b. a normalized image tensor (substract the VGG16's imageNet mean)"
   ]
  },
  {
   "cell_type": "code",
   "execution_count": 3,
   "metadata": {},
   "outputs": [
    {
     "name": "stdout",
     "output_type": "stream",
     "text": [
      "WARNING:tensorflow:From C:\\Users\\sowme\\Anaconda3\\lib\\site-packages\\keras\\backend\\tensorflow_backend.py:517: The name tf.placeholder is deprecated. Please use tf.compat.v1.placeholder instead.\n",
      "\n",
      "WARNING:tensorflow:From C:\\Users\\sowme\\Anaconda3\\lib\\site-packages\\keras\\backend\\tensorflow_backend.py:4138: The name tf.random_uniform is deprecated. Please use tf.random.uniform instead.\n",
      "\n",
      "WARNING:tensorflow:From C:\\Users\\sowme\\Anaconda3\\lib\\site-packages\\keras\\backend\\tensorflow_backend.py:3976: The name tf.nn.max_pool is deprecated. Please use tf.nn.max_pool2d instead.\n",
      "\n",
      "WARNING:tensorflow:From C:\\Users\\sowme\\Downloads\\Compressed\\BusterNet-master\\Model\\BusterNetCore.py:70: The name tf.lin_space is deprecated. Please use tf.linspace instead.\n",
      "\n",
      "WARNING:tensorflow:From C:\\Users\\sowme\\Anaconda3\\lib\\site-packages\\keras\\backend\\tensorflow_backend.py:245: The name tf.get_default_graph is deprecated. Please use tf.compat.v1.get_default_graph instead.\n",
      "\n",
      "WARNING:tensorflow:From C:\\Users\\sowme\\Anaconda3\\lib\\site-packages\\keras\\backend\\tensorflow_backend.py:174: The name tf.get_default_session is deprecated. Please use tf.compat.v1.get_default_session instead.\n",
      "\n",
      "WARNING:tensorflow:From C:\\Users\\sowme\\Anaconda3\\lib\\site-packages\\keras\\backend\\tensorflow_backend.py:181: The name tf.ConfigProto is deprecated. Please use tf.compat.v1.ConfigProto instead.\n",
      "\n",
      "WARNING:tensorflow:From C:\\Users\\sowme\\Anaconda3\\lib\\site-packages\\keras\\backend\\tensorflow_backend.py:186: The name tf.Session is deprecated. Please use tf.compat.v1.Session instead.\n",
      "\n",
      "WARNING:tensorflow:From C:\\Users\\sowme\\Anaconda3\\lib\\site-packages\\keras\\backend\\tensorflow_backend.py:190: The name tf.global_variables is deprecated. Please use tf.compat.v1.global_variables instead.\n",
      "\n",
      "WARNING:tensorflow:From C:\\Users\\sowme\\Anaconda3\\lib\\site-packages\\keras\\backend\\tensorflow_backend.py:199: The name tf.is_variable_initialized is deprecated. Please use tf.compat.v1.is_variable_initialized instead.\n",
      "\n",
      "WARNING:tensorflow:From C:\\Users\\sowme\\Anaconda3\\lib\\site-packages\\keras\\backend\\tensorflow_backend.py:206: The name tf.variables_initializer is deprecated. Please use tf.compat.v1.variables_initializer instead.\n",
      "\n",
      "WARNING:tensorflow:From C:\\Users\\sowme\\Anaconda3\\lib\\site-packages\\keras\\backend\\tensorflow_backend.py:1834: The name tf.nn.fused_batch_norm is deprecated. Please use tf.compat.v1.nn.fused_batch_norm instead.\n",
      "\n",
      "WARNING:tensorflow:From C:\\Users\\sowme\\Anaconda3\\lib\\site-packages\\keras\\backend\\tensorflow_backend.py:133: The name tf.placeholder_with_default is deprecated. Please use tf.compat.v1.placeholder_with_default instead.\n",
      "\n",
      "WARNING:tensorflow:From C:\\Users\\sowme\\Downloads\\Compressed\\BusterNet-master\\Model\\BusterNetCore.py:95: The name tf.image.resize_images is deprecated. Please use tf.image.resize instead.\n",
      "\n",
      "WARNING:tensorflow:From C:\\Users\\sowme\\Downloads\\Compressed\\BusterNet-master\\Model\\BusterNetCore.py:130: The name tf.image.resize_bilinear is deprecated. Please use tf.compat.v1.image.resize_bilinear instead.\n",
      "\n",
      "INFO: successfully load pretrained weights from ./pretrained_busterNet.hd5\n"
     ]
    }
   ],
   "source": [
    "from BusterNetCore import create_BusterNet_testing_model\n",
    "busterNetModel = create_BusterNet_testing_model( './pretrained_busterNet.hd5' )"
   ]
  },
  {
   "cell_type": "code",
   "execution_count": 5,
   "metadata": {},
   "outputs": [
    {
     "name": "stdout",
     "output_type": "stream",
     "text": [
      "__________________________________________________________________________________________________\n",
      "Layer (type)                    Output Shape         Param #     Connected to                     \n",
      "==================================================================================================\n",
      "image_in (InputLayer)           (None, None, None, 3 0                                            \n",
      "__________________________________________________________________________________________________\n",
      "preprocess (Preprocess)         (None, 256, 256, 3)  0           image_in[0][0]                   \n",
      "__________________________________________________________________________________________________\n",
      "simiFeatex (Model)              (None, 256, 256, 6)  7735568     preprocess[0][0]                 \n",
      "__________________________________________________________________________________________________\n",
      "maniFeatex (Model)              (None, 256, 256, 6)  7789694     preprocess[0][0]                 \n",
      "__________________________________________________________________________________________________\n",
      "merge (Concatenate)             (None, 256, 256, 12) 0           simiFeatex[1][0]                 \n",
      "                                                                 maniFeatex[1][0]                 \n",
      "__________________________________________________________________________________________________\n",
      "fusion_c0 (Conv2D)              (None, 256, 256, 3)  39          merge[0][0]                      \n",
      "__________________________________________________________________________________________________\n",
      "fusion_c1 (Conv2D)              (None, 256, 256, 3)  327         merge[0][0]                      \n",
      "__________________________________________________________________________________________________\n",
      "fusion_c2 (Conv2D)              (None, 256, 256, 3)  903         merge[0][0]                      \n",
      "__________________________________________________________________________________________________\n",
      "fusion_merge (Concatenate)      (None, 256, 256, 9)  0           fusion_c0[0][0]                  \n",
      "                                                                 fusion_c1[0][0]                  \n",
      "                                                                 fusion_c2[0][0]                  \n",
      "__________________________________________________________________________________________________\n",
      "fusion_bn (BatchNormalization)  (None, 256, 256, 9)  36          fusion_merge[0][0]               \n",
      "__________________________________________________________________________________________________\n",
      "fusion_re (Activation)          (None, 256, 256, 9)  0           fusion_bn[0][0]                  \n",
      "__________________________________________________________________________________________________\n",
      "pred_mask (Conv2D)              (None, 256, 256, 3)  246         fusion_re[0][0]                  \n",
      "__________________________________________________________________________________________________\n",
      "restore (ResizeBack)            (None, None, None, 3 0           pred_mask[0][0]                  \n",
      "                                                                 image_in[0][0]                   \n",
      "==================================================================================================\n",
      "Total params: 15,526,813\n",
      "Trainable params: 15,526,007\n",
      "Non-trainable params: 806\n",
      "__________________________________________________________________________________________________\n",
      "None\n"
     ]
    }
   ],
   "source": [
    "print( busterNetModel.summary() )"
   ]
  },
  {
   "cell_type": "markdown",
   "metadata": {},
   "source": [
    "# Task #2: Perform CMFD using the BusterNet"
   ]
  },
  {
   "cell_type": "code",
   "execution_count": 6,
   "metadata": {},
   "outputs": [],
   "source": [
    "lmdb_dir = '../Data/USCISI-CMFD-Small'\n",
    "sys.path.insert(0,lmdb_dir)\n",
    "from api import USCISI_CMD_API\n",
    "from BusterNetUtils import *"
   ]
  },
  {
   "cell_type": "code",
   "execution_count": 7,
   "metadata": {},
   "outputs": [
    {
     "name": "stdout",
     "output_type": "stream",
     "text": [
      "INFO: successfully load USC-ISI CMD LMDB with 100 keys\n"
     ]
    }
   ],
   "source": [
    "dataset = USCISI_CMD_API( lmdb_dir=lmdb_dir,\n",
    "                          sample_file=os.path.join( lmdb_dir, 'samples.keys' ),\n",
    "                          differentiate_target=True )"
   ]
  },
  {
   "cell_type": "code",
   "execution_count": 8,
   "metadata": {},
   "outputs": [
    {
     "name": "stdout",
     "output_type": "stream",
     "text": [
      "INFO: use random key COCO_train2014_000000466680-00-T0-X158430\n"
     ]
    },
    {
     "ename": "TypeError",
     "evalue": "a bytes-like object is required, not 'numpy.str_'",
     "output_type": "error",
     "traceback": [
      "\u001b[1;31m---------------------------------------------------------------------------\u001b[0m",
      "\u001b[1;31mTypeError\u001b[0m                                 Traceback (most recent call last)",
      "\u001b[1;32m<ipython-input-8-2458dbb39c94>\u001b[0m in \u001b[0;36m<module>\u001b[1;34m\u001b[0m\n\u001b[0;32m      1\u001b[0m \u001b[1;32mfor\u001b[0m \u001b[0mk\u001b[0m \u001b[1;32min\u001b[0m \u001b[0mrange\u001b[0m\u001b[1;33m(\u001b[0m\u001b[1;36m2\u001b[0m\u001b[1;33m)\u001b[0m \u001b[1;33m:\u001b[0m\u001b[1;33m\u001b[0m\u001b[1;33m\u001b[0m\u001b[0m\n\u001b[1;32m----> 2\u001b[1;33m     \u001b[0mrgb\u001b[0m\u001b[1;33m,\u001b[0m \u001b[0mgt\u001b[0m\u001b[1;33m,\u001b[0m \u001b[0mtrans_mat\u001b[0m \u001b[1;33m=\u001b[0m \u001b[0mdataset\u001b[0m\u001b[1;33m.\u001b[0m\u001b[0mget_one_sample\u001b[0m\u001b[1;33m(\u001b[0m\u001b[1;33m)\u001b[0m\u001b[1;33m\u001b[0m\u001b[1;33m\u001b[0m\u001b[0m\n\u001b[0m\u001b[0;32m      3\u001b[0m     \u001b[0mprint\u001b[0m\u001b[1;33m(\u001b[0m\u001b[0mtype\u001b[0m\u001b[1;33m(\u001b[0m\u001b[0mrgb\u001b[0m\u001b[1;33m)\u001b[0m\u001b[1;33m,\u001b[0m \u001b[0mtype\u001b[0m\u001b[1;33m(\u001b[0m\u001b[0mgt\u001b[0m\u001b[1;33m)\u001b[0m\u001b[1;33m,\u001b[0m \u001b[0mtype\u001b[0m\u001b[1;33m(\u001b[0m\u001b[0mpred\u001b[0m\u001b[1;33m)\u001b[0m\u001b[1;33m)\u001b[0m\u001b[1;33m\u001b[0m\u001b[1;33m\u001b[0m\u001b[0m\n\u001b[0;32m      4\u001b[0m     \u001b[0mpred\u001b[0m \u001b[1;33m=\u001b[0m \u001b[0msimple_cmfd_decoder\u001b[0m\u001b[1;33m(\u001b[0m \u001b[0mbusterNetModel\u001b[0m\u001b[1;33m,\u001b[0m \u001b[0mrgb\u001b[0m \u001b[1;33m)\u001b[0m\u001b[1;33m\u001b[0m\u001b[1;33m\u001b[0m\u001b[0m\n\u001b[0;32m      5\u001b[0m     \u001b[0mvisualize_result\u001b[0m\u001b[1;33m(\u001b[0m \u001b[0mrgb\u001b[0m\u001b[1;33m,\u001b[0m \u001b[0mgt\u001b[0m\u001b[1;33m,\u001b[0m \u001b[0mpred\u001b[0m \u001b[1;33m)\u001b[0m\u001b[1;33m\u001b[0m\u001b[1;33m\u001b[0m\u001b[0m\n",
      "\u001b[1;32m~\\Downloads\\Compressed\\BusterNet-master\\Data\\USCISI-CMFD-Small\\api.py\u001b[0m in \u001b[0;36mget_one_sample\u001b[1;34m(self, key)\u001b[0m\n\u001b[0;32m    152\u001b[0m             \u001b[0msample\u001b[0m \u001b[1;33m=\u001b[0m \u001b[0mtuple\u001b[0m \u001b[0mof\u001b[0m \u001b[1;33m(\u001b[0m\u001b[0mimage\u001b[0m\u001b[1;33m,\u001b[0m \u001b[0mcmd_mask\u001b[0m\u001b[1;33m,\u001b[0m \u001b[0mtrans_mat\u001b[0m\u001b[1;33m)\u001b[0m\u001b[1;33m\u001b[0m\u001b[1;33m\u001b[0m\u001b[0m\n\u001b[0;32m    153\u001b[0m         '''\n\u001b[1;32m--> 154\u001b[1;33m         \u001b[1;32mreturn\u001b[0m \u001b[0mself\u001b[0m\u001b[1;33m.\u001b[0m\u001b[0mget_samples\u001b[0m\u001b[1;33m(\u001b[0m\u001b[1;33m[\u001b[0m\u001b[0mkey\u001b[0m\u001b[1;33m]\u001b[0m\u001b[1;33m)\u001b[0m\u001b[1;33m[\u001b[0m\u001b[1;36m0\u001b[0m\u001b[1;33m]\u001b[0m\u001b[1;33m\u001b[0m\u001b[1;33m\u001b[0m\u001b[0m\n\u001b[0m\u001b[0;32m    155\u001b[0m     \u001b[1;32mdef\u001b[0m \u001b[0mget_samples\u001b[0m\u001b[1;33m(\u001b[0m \u001b[0mself\u001b[0m\u001b[1;33m,\u001b[0m \u001b[0mkey_list\u001b[0m \u001b[1;33m)\u001b[0m \u001b[1;33m:\u001b[0m\u001b[1;33m\u001b[0m\u001b[1;33m\u001b[0m\u001b[0m\n\u001b[0;32m    156\u001b[0m         '''Get samples according to a given key list\n",
      "\u001b[1;32m~\\Downloads\\Compressed\\BusterNet-master\\Data\\USCISI-CMFD-Small\\api.py\u001b[0m in \u001b[0;36mget_samples\u001b[1;34m(self, key_list)\u001b[0m\n\u001b[0;32m    172\u001b[0m                     \u001b[0mkey\u001b[0m \u001b[1;33m=\u001b[0m \u001b[0mnp\u001b[0m\u001b[1;33m.\u001b[0m\u001b[0mrandom\u001b[0m\u001b[1;33m.\u001b[0m\u001b[0mchoice\u001b[0m\u001b[1;33m(\u001b[0m\u001b[0mself\u001b[0m\u001b[1;33m.\u001b[0m\u001b[0msample_keys\u001b[0m\u001b[1;33m,\u001b[0m \u001b[1;36m1\u001b[0m\u001b[1;33m)\u001b[0m\u001b[1;33m[\u001b[0m\u001b[1;36m0\u001b[0m\u001b[1;33m]\u001b[0m\u001b[1;33m\u001b[0m\u001b[1;33m\u001b[0m\u001b[0m\n\u001b[0;32m    173\u001b[0m                     \u001b[0mprint\u001b[0m\u001b[1;33m(\u001b[0m\u001b[1;34m\"INFO: use random key\"\u001b[0m\u001b[1;33m,\u001b[0m \u001b[0mkey\u001b[0m\u001b[1;33m)\u001b[0m\u001b[1;33m\u001b[0m\u001b[1;33m\u001b[0m\u001b[0m\n\u001b[1;32m--> 174\u001b[1;33m                 \u001b[0mlut_str\u001b[0m \u001b[1;33m=\u001b[0m \u001b[0mtxn\u001b[0m\u001b[1;33m.\u001b[0m\u001b[0mget\u001b[0m\u001b[1;33m(\u001b[0m \u001b[0mkey\u001b[0m \u001b[1;33m)\u001b[0m\u001b[1;33m\u001b[0m\u001b[1;33m\u001b[0m\u001b[0m\n\u001b[0m\u001b[0;32m    175\u001b[0m                 \u001b[0msample\u001b[0m \u001b[1;33m=\u001b[0m \u001b[0mself\u001b[0m\u001b[1;33m.\u001b[0m\u001b[0m_decode_lut_str\u001b[0m\u001b[1;33m(\u001b[0m \u001b[0mlut_str\u001b[0m \u001b[1;33m)\u001b[0m\u001b[1;33m\u001b[0m\u001b[1;33m\u001b[0m\u001b[0m\n\u001b[0;32m    176\u001b[0m                 \u001b[0msample_list\u001b[0m\u001b[1;33m.\u001b[0m\u001b[0mappend\u001b[0m\u001b[1;33m(\u001b[0m \u001b[0msample\u001b[0m \u001b[1;33m)\u001b[0m\u001b[1;33m\u001b[0m\u001b[1;33m\u001b[0m\u001b[0m\n",
      "\u001b[1;31mTypeError\u001b[0m: a bytes-like object is required, not 'numpy.str_'"
     ]
    }
   ],
   "source": [
    "for k in range(2) :\n",
    "    rgb, gt, trans_mat = dataset.get_one_sample()\n",
    "    print(type(rgb), type(gt), type(pred))\n",
    "    pred = simple_cmfd_decoder( busterNetModel, rgb )\n",
    "    visualize_result( rgb, gt, pred )"
   ]
  },
  {
   "cell_type": "code",
   "execution_count": null,
   "metadata": {},
   "outputs": [],
   "source": []
  }
 ],
 "metadata": {
  "kernelspec": {
   "display_name": "Python 3",
   "language": "python",
   "name": "python3"
  },
  "language_info": {
   "codemirror_mode": {
    "name": "ipython",
    "version": 3
   },
   "file_extension": ".py",
   "mimetype": "text/x-python",
   "name": "python",
   "nbconvert_exporter": "python",
   "pygments_lexer": "ipython3",
   "version": "3.6.10"
  }
 },
 "nbformat": 4,
 "nbformat_minor": 2
}
